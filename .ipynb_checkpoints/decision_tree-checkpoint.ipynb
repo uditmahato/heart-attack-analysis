{
 "cells": [
  {
   "cell_type": "markdown",
   "id": "ee5f936b",
   "metadata": {},
   "source": [
    "# HEART ATTACK ANALYSIS "
   ]
  },
  {
   "cell_type": "markdown",
   "id": "7bc7cebf",
   "metadata": {},
   "source": [
    "### Importing  useful libraries"
   ]
  },
  {
   "cell_type": "code",
   "execution_count": null,
   "id": "299e305b",
   "metadata": {},
   "outputs": [],
   "source": [
    "import pandas as pd # imported pandas\n",
    "import numpy as np # imported numpy\n",
    "import seaborn as sn"
   ]
  }
 ],
 "metadata": {
  "kernelspec": {
   "display_name": "Python 3 (ipykernel)",
   "language": "python",
   "name": "python3"
  },
  "language_info": {
   "codemirror_mode": {
    "name": "ipython",
    "version": 3
   },
   "file_extension": ".py",
   "mimetype": "text/x-python",
   "name": "python",
   "nbconvert_exporter": "python",
   "pygments_lexer": "ipython3",
   "version": "3.8.8"
  }
 },
 "nbformat": 4,
 "nbformat_minor": 5
}
